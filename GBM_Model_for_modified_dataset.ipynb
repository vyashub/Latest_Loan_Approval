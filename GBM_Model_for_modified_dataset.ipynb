{
 "cells": [
  {
   "cell_type": "code",
   "execution_count": 1,
   "metadata": {
    "collapsed": true
   },
   "outputs": [],
   "source": [
    "import pandas as pd\n",
    "import numpy as np\n",
    "import matplotlib.pyplot as plt\n",
    "%matplotlib inline\n",
    "#from matplotlib import style\n",
    "#style.use('fivethirtyeight')\n",
    "import seaborn as sns\n",
    "#sns.set(style = 'white', color_code=True)\n",
    "# import warnings\n",
    "# warnings.filterwarnings('ignore')\n",
    "# sns.set_style('whitegrid')\n",
    "\n",
    "from sklearn.ensemble import GradientBoostingClassifier  #GBM algorithm\n",
    "from sklearn import cross_validation, metrics   #Additional scklearn functions\n",
    "from sklearn.grid_search import GridSearchCV   #Performing grid search\n",
    "# from sklearn.model_selection import GridSearchCV\n",
    "import matplotlib.pylab as plt\n",
    "from matplotlib.pylab import rcParams\n",
    "rcParams['figure.figsize'] = 12, 4"
   ]
  },
  {
   "cell_type": "code",
   "execution_count": 2,
   "metadata": {
    "collapsed": true
   },
   "outputs": [],
   "source": [
    "df = pd.read_csv('train_modified.csv')\n",
    "dtest = pd.read_csv('test_modified.csv')\n",
    "df.drop('LoanAmount',axis=1,inplace=True)\n",
    "dtest.drop('LoanAmount',axis=1,inplace=True)\n",
    "df.drop('Total_Income',axis=1,inplace=True)\n",
    "dtest.drop('Total_Income',axis=1,inplace=True)"
   ]
  },
  {
   "cell_type": "code",
   "execution_count": 3,
   "metadata": {
    "collapsed": false
   },
   "outputs": [
    {
     "name": "stdout",
     "output_type": "stream",
     "text": [
      "<class 'pandas.core.frame.DataFrame'>\n",
      "RangeIndex: 614 entries, 0 to 613\n",
      "Data columns (total 23 columns):\n",
      "Credit_History      614 non-null float64\n",
      "Loan_Amount_Term    614 non-null float64\n",
      "Loan_ID             614 non-null object\n",
      "Loan_Status         614 non-null object\n",
      "Total_Income_Log    614 non-null float64\n",
      "LoanAmount_log      614 non-null float64\n",
      "EMI                 614 non-null float64\n",
      "Ratio               614 non-null float64\n",
      "Dependents_0        614 non-null float64\n",
      "Dependents_1        614 non-null float64\n",
      "Dependents_2        614 non-null float64\n",
      "Dependents_3        614 non-null float64\n",
      "Education_0         614 non-null float64\n",
      "Education_1         614 non-null float64\n",
      "Gender_0            614 non-null float64\n",
      "Gender_1            614 non-null float64\n",
      "Married_0           614 non-null float64\n",
      "Married_1           614 non-null float64\n",
      "Property_Area_0     614 non-null float64\n",
      "Property_Area_1     614 non-null float64\n",
      "Property_Area_2     614 non-null float64\n",
      "Self_Employed_0     614 non-null float64\n",
      "Self_Employed_1     614 non-null float64\n",
      "dtypes: float64(21), object(2)\n",
      "memory usage: 110.4+ KB\n",
      "<class 'pandas.core.frame.DataFrame'>\n",
      "RangeIndex: 367 entries, 0 to 366\n",
      "Data columns (total 22 columns):\n",
      "Credit_History      367 non-null float64\n",
      "Loan_Amount_Term    367 non-null float64\n",
      "Loan_ID             367 non-null object\n",
      "Total_Income_Log    367 non-null float64\n",
      "LoanAmount_log      367 non-null float64\n",
      "EMI                 367 non-null float64\n",
      "Ratio               367 non-null float64\n",
      "Dependents_0        367 non-null float64\n",
      "Dependents_1        367 non-null float64\n",
      "Dependents_2        367 non-null float64\n",
      "Dependents_3        367 non-null float64\n",
      "Education_0         367 non-null float64\n",
      "Education_1         367 non-null float64\n",
      "Gender_0            367 non-null float64\n",
      "Gender_1            367 non-null float64\n",
      "Married_0           367 non-null float64\n",
      "Married_1           367 non-null float64\n",
      "Property_Area_0     367 non-null float64\n",
      "Property_Area_1     367 non-null float64\n",
      "Property_Area_2     367 non-null float64\n",
      "Self_Employed_0     367 non-null float64\n",
      "Self_Employed_1     367 non-null float64\n",
      "dtypes: float64(21), object(1)\n",
      "memory usage: 63.2+ KB\n"
     ]
    }
   ],
   "source": [
    "df.head()\n",
    "df.info(),dtest.info()\n",
    "df['Rank_Vector'] = df['Married_1'] + df['Dependents_0'] + df['Education_0'] + df['Property_Area_0']\n",
    "dtest['Rank_Vector'] = dtest['Married_1'] + df['Dependents_0'] + dtest['Education_0'] + dtest['Property_Area_0']\n",
    "\n",
    "df['Neg_Rank_Vector'] = df['Married_0'] + df['Dependents_3'] + df['Education_1'] + df['Property_Area_2']\n",
    "dtest['Neg_Rank_Vector'] = dtest['Married_0'] + dtest['Dependents_3'] + dtest['Education_1'] + dtest['Property_Area_2']"
   ]
  },
  {
   "cell_type": "code",
   "execution_count": 4,
   "metadata": {
    "collapsed": false
   },
   "outputs": [
    {
     "data": {
      "text/html": [
       "<div>\n",
       "<table border=\"1\" class=\"dataframe\">\n",
       "  <thead>\n",
       "    <tr style=\"text-align: right;\">\n",
       "      <th></th>\n",
       "      <th>Credit_History</th>\n",
       "      <th>Loan_Amount_Term</th>\n",
       "      <th>Total_Income_Log</th>\n",
       "      <th>LoanAmount_log</th>\n",
       "      <th>EMI</th>\n",
       "      <th>Ratio</th>\n",
       "      <th>Dependents_0</th>\n",
       "      <th>Dependents_1</th>\n",
       "      <th>Dependents_2</th>\n",
       "      <th>Dependents_3</th>\n",
       "      <th>...</th>\n",
       "      <th>Gender_1</th>\n",
       "      <th>Married_0</th>\n",
       "      <th>Married_1</th>\n",
       "      <th>Property_Area_0</th>\n",
       "      <th>Property_Area_1</th>\n",
       "      <th>Property_Area_2</th>\n",
       "      <th>Self_Employed_0</th>\n",
       "      <th>Self_Employed_1</th>\n",
       "      <th>Rank_Vector</th>\n",
       "      <th>Neg_Rank_Vector</th>\n",
       "    </tr>\n",
       "  </thead>\n",
       "  <tbody>\n",
       "    <tr>\n",
       "      <th>0</th>\n",
       "      <td>1.0</td>\n",
       "      <td>360.0</td>\n",
       "      <td>8.651724</td>\n",
       "      <td>4.841041</td>\n",
       "      <td>0.013447</td>\n",
       "      <td>0.559546</td>\n",
       "      <td>1.0</td>\n",
       "      <td>0.0</td>\n",
       "      <td>0.0</td>\n",
       "      <td>0.0</td>\n",
       "      <td>...</td>\n",
       "      <td>1.0</td>\n",
       "      <td>0.0</td>\n",
       "      <td>1.0</td>\n",
       "      <td>0.0</td>\n",
       "      <td>0.0</td>\n",
       "      <td>1.0</td>\n",
       "      <td>1.0</td>\n",
       "      <td>0.0</td>\n",
       "      <td>3.0</td>\n",
       "      <td>1.0</td>\n",
       "    </tr>\n",
       "    <tr>\n",
       "      <th>1</th>\n",
       "      <td>1.0</td>\n",
       "      <td>360.0</td>\n",
       "      <td>8.428581</td>\n",
       "      <td>4.836282</td>\n",
       "      <td>0.013434</td>\n",
       "      <td>0.573796</td>\n",
       "      <td>0.0</td>\n",
       "      <td>1.0</td>\n",
       "      <td>0.0</td>\n",
       "      <td>0.0</td>\n",
       "      <td>...</td>\n",
       "      <td>1.0</td>\n",
       "      <td>0.0</td>\n",
       "      <td>1.0</td>\n",
       "      <td>0.0</td>\n",
       "      <td>0.0</td>\n",
       "      <td>1.0</td>\n",
       "      <td>1.0</td>\n",
       "      <td>0.0</td>\n",
       "      <td>2.0</td>\n",
       "      <td>1.0</td>\n",
       "    </tr>\n",
       "    <tr>\n",
       "      <th>2</th>\n",
       "      <td>1.0</td>\n",
       "      <td>360.0</td>\n",
       "      <td>8.824678</td>\n",
       "      <td>5.337538</td>\n",
       "      <td>0.014826</td>\n",
       "      <td>0.604842</td>\n",
       "      <td>0.0</td>\n",
       "      <td>0.0</td>\n",
       "      <td>1.0</td>\n",
       "      <td>0.0</td>\n",
       "      <td>...</td>\n",
       "      <td>1.0</td>\n",
       "      <td>0.0</td>\n",
       "      <td>1.0</td>\n",
       "      <td>0.0</td>\n",
       "      <td>0.0</td>\n",
       "      <td>1.0</td>\n",
       "      <td>1.0</td>\n",
       "      <td>0.0</td>\n",
       "      <td>3.0</td>\n",
       "      <td>1.0</td>\n",
       "    </tr>\n",
       "    <tr>\n",
       "      <th>3</th>\n",
       "      <td>1.0</td>\n",
       "      <td>360.0</td>\n",
       "      <td>8.494129</td>\n",
       "      <td>4.605170</td>\n",
       "      <td>0.012792</td>\n",
       "      <td>0.542159</td>\n",
       "      <td>0.0</td>\n",
       "      <td>0.0</td>\n",
       "      <td>1.0</td>\n",
       "      <td>0.0</td>\n",
       "      <td>...</td>\n",
       "      <td>1.0</td>\n",
       "      <td>0.0</td>\n",
       "      <td>1.0</td>\n",
       "      <td>0.0</td>\n",
       "      <td>0.0</td>\n",
       "      <td>1.0</td>\n",
       "      <td>1.0</td>\n",
       "      <td>0.0</td>\n",
       "      <td>3.0</td>\n",
       "      <td>1.0</td>\n",
       "    </tr>\n",
       "    <tr>\n",
       "      <th>4</th>\n",
       "      <td>1.0</td>\n",
       "      <td>360.0</td>\n",
       "      <td>8.094378</td>\n",
       "      <td>4.356709</td>\n",
       "      <td>0.012102</td>\n",
       "      <td>0.538239</td>\n",
       "      <td>1.0</td>\n",
       "      <td>0.0</td>\n",
       "      <td>0.0</td>\n",
       "      <td>0.0</td>\n",
       "      <td>...</td>\n",
       "      <td>1.0</td>\n",
       "      <td>1.0</td>\n",
       "      <td>0.0</td>\n",
       "      <td>0.0</td>\n",
       "      <td>0.0</td>\n",
       "      <td>1.0</td>\n",
       "      <td>1.0</td>\n",
       "      <td>0.0</td>\n",
       "      <td>1.0</td>\n",
       "      <td>3.0</td>\n",
       "    </tr>\n",
       "  </tbody>\n",
       "</table>\n",
       "<p>5 rows × 23 columns</p>\n",
       "</div>"
      ],
      "text/plain": [
       "   Credit_History  Loan_Amount_Term  Total_Income_Log  LoanAmount_log  \\\n",
       "0             1.0             360.0          8.651724        4.841041   \n",
       "1             1.0             360.0          8.428581        4.836282   \n",
       "2             1.0             360.0          8.824678        5.337538   \n",
       "3             1.0             360.0          8.494129        4.605170   \n",
       "4             1.0             360.0          8.094378        4.356709   \n",
       "\n",
       "        EMI     Ratio  Dependents_0  Dependents_1  Dependents_2  Dependents_3  \\\n",
       "0  0.013447  0.559546           1.0           0.0           0.0           0.0   \n",
       "1  0.013434  0.573796           0.0           1.0           0.0           0.0   \n",
       "2  0.014826  0.604842           0.0           0.0           1.0           0.0   \n",
       "3  0.012792  0.542159           0.0           0.0           1.0           0.0   \n",
       "4  0.012102  0.538239           1.0           0.0           0.0           0.0   \n",
       "\n",
       "        ...         Gender_1  Married_0  Married_1  Property_Area_0  \\\n",
       "0       ...              1.0        0.0        1.0              0.0   \n",
       "1       ...              1.0        0.0        1.0              0.0   \n",
       "2       ...              1.0        0.0        1.0              0.0   \n",
       "3       ...              1.0        0.0        1.0              0.0   \n",
       "4       ...              1.0        1.0        0.0              0.0   \n",
       "\n",
       "   Property_Area_1  Property_Area_2  Self_Employed_0  Self_Employed_1  \\\n",
       "0              0.0              1.0              1.0              0.0   \n",
       "1              0.0              1.0              1.0              0.0   \n",
       "2              0.0              1.0              1.0              0.0   \n",
       "3              0.0              1.0              1.0              0.0   \n",
       "4              0.0              1.0              1.0              0.0   \n",
       "\n",
       "   Rank_Vector  Neg_Rank_Vector  \n",
       "0          3.0              1.0  \n",
       "1          2.0              1.0  \n",
       "2          3.0              1.0  \n",
       "3          3.0              1.0  \n",
       "4          1.0              3.0  \n",
       "\n",
       "[5 rows x 23 columns]"
      ]
     },
     "execution_count": 4,
     "metadata": {},
     "output_type": "execute_result"
    }
   ],
   "source": [
    "X_test = dtest.drop('Loan_ID',axis=1)\n",
    "X_test.head()"
   ]
  },
  {
   "cell_type": "code",
   "execution_count": 5,
   "metadata": {
    "collapsed": true
   },
   "outputs": [],
   "source": [
    "target = 'Loan_Status'\n",
    "IDcol = 'Loan_ID'"
   ]
  },
  {
   "cell_type": "code",
   "execution_count": 6,
   "metadata": {
    "collapsed": false
   },
   "outputs": [],
   "source": [
    "# clf_final = GradientBoostingClassifier(learning_rate =0.1,random_state=10,subsample=0.7,n_estimators=20,max_features='sqrt',\n",
    "#                                  max_depth=5,min_samples_leaf=13,min_samples_split=50)\n",
    "# predictors = [x for x in df.columns if x not in [target, IDcol]]\n",
    "\n",
    "# # modelfit(clf, df, predictors)\n",
    "# clf_final.fit(df[predictors], df['Loan_Status'])\n",
    "# dtrain_predictions = clf_final.predict(X_test)"
   ]
  },
  {
   "cell_type": "code",
   "execution_count": 7,
   "metadata": {
    "collapsed": true
   },
   "outputs": [],
   "source": [
    "# submission = pd.DataFrame({\n",
    "#         'Loan_ID':dtest['Loan_ID'],\n",
    "#         'Loan_Status':dtrain_predictions\n",
    "#     })\n",
    "# submission.to_csv('Loan_Prediction.csv',index=False)"
   ]
  },
  {
   "cell_type": "code",
   "execution_count": 8,
   "metadata": {
    "collapsed": false
   },
   "outputs": [
    {
     "data": {
      "text/plain": [
       "0.80944625407166126"
      ]
     },
     "execution_count": 8,
     "metadata": {},
     "output_type": "execute_result"
    }
   ],
   "source": [
    "from sklearn.linear_model import LogisticRegression\n",
    "predictors = [x for x in df.columns if x not in [target, IDcol]]\n",
    "logReg = LogisticRegression()\n",
    "logReg.fit(df[predictors],df['Loan_Status'])\n",
    "dtrain_predictions = logReg.predict(X_test)\n",
    "logReg.score(df[predictors],df['Loan_Status'])"
   ]
  },
  {
   "cell_type": "code",
   "execution_count": 9,
   "metadata": {
    "collapsed": false
   },
   "outputs": [],
   "source": [
    "# from sklearn.ensemble import RandomForestClassifier\n",
    "# predictors = [x for x in df.columns if x not in [target, IDcol]]\n",
    "# rf = RandomForestClassifier(n_estimators=25, min_samples_split=25, max_depth=7, max_features=1)\n",
    "# rf.fit(df[predictors],df['Loan_Status'])\n",
    "# dtrain_predictions = rf.predict(X_test)\n",
    "# rf.score(df[predictors],df['Loan_Status'])"
   ]
  },
  {
   "cell_type": "code",
   "execution_count": 10,
   "metadata": {
    "collapsed": false
   },
   "outputs": [],
   "source": [
    "# from sklearn import svm\n",
    "# predictors = [x for x in df.columns if x not in [target, IDcol]]\n",
    "# svc = svm.SVC()\n",
    "# svc.fit(df[predictors],df['Loan_Status'])\n",
    "# dtrain_predictions = svc.predict(X_test)\n",
    "# svc.score(df[predictors],df['Loan_Status'])"
   ]
  },
  {
   "cell_type": "code",
   "execution_count": 11,
   "metadata": {
    "collapsed": false
   },
   "outputs": [],
   "source": [
    "submission = pd.DataFrame({\n",
    "        'Loan_ID':dtest['Loan_ID'],\n",
    "        'Loan_Status':dtrain_predictions\n",
    "    })\n",
    "submission.to_csv('Loan_Prediction.csv',index=False)"
   ]
  },
  {
   "cell_type": "code",
   "execution_count": null,
   "metadata": {
    "collapsed": true
   },
   "outputs": [],
   "source": []
  }
 ],
 "metadata": {
  "anaconda-cloud": {},
  "kernelspec": {
   "display_name": "Python [default]",
   "language": "python",
   "name": "python3"
  },
  "language_info": {
   "codemirror_mode": {
    "name": "ipython",
    "version": 3
   },
   "file_extension": ".py",
   "mimetype": "text/x-python",
   "name": "python",
   "nbconvert_exporter": "python",
   "pygments_lexer": "ipython3",
   "version": "3.5.2"
  }
 },
 "nbformat": 4,
 "nbformat_minor": 1
}
