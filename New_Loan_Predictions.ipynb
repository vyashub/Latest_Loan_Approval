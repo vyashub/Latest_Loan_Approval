{
 "cells": [
  {
   "cell_type": "code",
   "execution_count": 1,
   "metadata": {
    "collapsed": false
   },
   "outputs": [],
   "source": [
    "#import xgboost\n",
    "import pandas as pd\n",
    "import numpy as np\n",
    "import matplotlib.pyplot as plt\n",
    "%matplotlib inline\n",
    "#from matplotlib import style\n",
    "#style.use('fivethirtyeight')\n",
    "import seaborn as sns\n",
    "#sns.set(style = 'white', color_code=True)\n",
    "import warnings\n",
    "warnings.filterwarnings('ignore')\n",
    "sns.set_style('whitegrid')"
   ]
  },
  {
   "cell_type": "code",
   "execution_count": 2,
   "metadata": {
    "collapsed": false
   },
   "outputs": [
    {
     "data": {
      "text/plain": [
       "((614, 13), (367, 12))"
      ]
     },
     "execution_count": 2,
     "metadata": {},
     "output_type": "execute_result"
    }
   ],
   "source": [
    "#Load train and test data from csv files\n",
    "#train_loan_df = pd.read_csv('Loan_train.csv',dtype={'Loan_ID'[2:]:int})\n",
    "train_loan_df = pd.read_csv('train.csv')\n",
    "test_loan_df  = pd.read_csv('test.csv')\n",
    "#train_loan_df.corr()\n",
    "train_loan_df.shape,test_loan_df.shape\n",
    "#train_loan_df['Loan_ID'] = [pd.to_numeric(x[2:],errors='ignore') for x in train_loan_df['Loan_ID'] ]\n",
    "# train_loan_df.info()\n",
    "# train_loan_df.head()"
   ]
  },
  {
   "cell_type": "code",
   "execution_count": 3,
   "metadata": {
    "collapsed": false
   },
   "outputs": [],
   "source": [
    "#Gender Column\n",
    "train_loan_df['Gender'] = train_loan_df['Gender'].fillna('Male')\n",
    "test_loan_df['Gender'] = test_loan_df['Gender'].fillna('Male')\n",
    "\n",
    "gender_map = {'Male':0,'Female':1}\n",
    "\n",
    "train_loan_df['Gender'] = train_loan_df['Gender'].map(gender_map)\n",
    "test_loan_df['Gender'] = test_loan_df['Gender'].map(gender_map)\n",
    "\n",
    "#Married Column\n",
    "train_loan_df['Married'] = train_loan_df['Married'].fillna('Yes')\n",
    "test_loan_df['Married'] = test_loan_df['Married'].fillna('Yes')\n",
    "\n",
    "married_map = {'Yes':1,'No':0}\n",
    "\n",
    "train_loan_df['Married'] = train_loan_df['Married'].map(married_map)\n",
    "test_loan_df['Married'] = test_loan_df['Married'].map(married_map)\n",
    "\n",
    "#Dependent Column\n",
    "train_loan_df['Dependents'] = train_loan_df['Dependents'].fillna('2')\n",
    "test_loan_df['Dependents'] = test_loan_df['Dependents'].fillna('2')\n",
    "\n",
    "#dep_map = {'0':69,'1':65,'2':75,'3+':64}\n",
    "dep_map = {'0':0,'1':1,'2':2,'3+':3}\n",
    "\n",
    "train_loan_df['Dependents'] = train_loan_df['Dependents'].map(dep_map)\n",
    "test_loan_df['Dependents'] = test_loan_df['Dependents'].map(dep_map)\n",
    "\n",
    "#Loan Amount Term\n",
    "train_loan_df['Loan_Amount_Term'] = train_loan_df['Loan_Amount_Term'].fillna(train_loan_df['Loan_Amount_Term'].mean())\n",
    "test_loan_df['Loan_Amount_Term'] = test_loan_df['Loan_Amount_Term'].fillna(test_loan_df['Loan_Amount_Term'].mean())\n",
    "\n",
    "#LoanAmount\n",
    "train_loan_df['LoanAmount'] = train_loan_df['LoanAmount'].fillna(train_loan_df['LoanAmount'].mean())\n",
    "test_loan_df['LoanAmount'] = test_loan_df['LoanAmount'].fillna(test_loan_df['LoanAmount'].mean())\n",
    "\n",
    "#Self Employed\n",
    "train_loan_df['Self_Employed'] = train_loan_df['Self_Employed'].fillna('No')\n",
    "test_loan_df['Self_Employed'] = test_loan_df['Self_Employed'].fillna('No')\n",
    "\n",
    "self_emp_map = {'Yes':0,'No':1}\n",
    "\n",
    "train_loan_df['Self_Employed'] = train_loan_df['Self_Employed'].map(self_emp_map)\n",
    "test_loan_df['Self_Employed'] = test_loan_df['Self_Employed'].map(self_emp_map)\n",
    "\n",
    "#Property Map\n",
    "#property_map = {'Semiurban':77,'Urban':66,'Rural':62}\n",
    "property_map = {'Semiurban':3,'Urban':2,'Rural':1}\n",
    "train_loan_df['Property_Area'] = train_loan_df['Property_Area'].map(property_map)\n",
    "test_loan_df['Property_Area']  = test_loan_df['Property_Area'].map(property_map)\n",
    "\n",
    "#Education Column\n",
    "edu_map = {'Graduate':1,'Not Graduate':0}\n",
    "train_loan_df.Education = train_loan_df.Education.map(edu_map)\n",
    "test_loan_df.Education = test_loan_df.Education.map(edu_map)\n",
    "\n",
    "#Credit History Column\n",
    "train_loan_df['Credit_History'] = train_loan_df['Credit_History'].fillna(1.0)\n",
    "test_loan_df['Credit_History']  = test_loan_df['Credit_History'].fillna(1.0)\n",
    "\n",
    "#New EMI Column\n",
    "train_loan_df['EMI'] = train_loan_df['LoanAmount']/train_loan_df['Loan_Amount_Term']\n",
    "test_loan_df['EMI'] = test_loan_df['LoanAmount']/test_loan_df['Loan_Amount_Term']\n",
    "\n",
    "\n",
    "#Credit_Pos_Index\n",
    "train_loan_df['Credit_Pos_Index'] = train_loan_df['Self_Employed'] + train_loan_df['Education'] + train_loan_df['Married'] + train_loan_df['Dependents']\n",
    "test_loan_df['Credit_Pos_Index'] = test_loan_df['Self_Employed'] + test_loan_df['Education'] + test_loan_df['Married'] + test_loan_df['Dependents']\n",
    "\n",
    "#Loan_Value\n",
    "train_loan_df['Loan_Value'] = train_loan_df['LoanAmount']/(train_loan_df['ApplicantIncome'] + train_loan_df['CoapplicantIncome'])\n",
    "test_loan_df['Loan_Value'] = test_loan_df['LoanAmount']/(test_loan_df['ApplicantIncome'] + test_loan_df['CoapplicantIncome'])"
   ]
  },
  {
   "cell_type": "code",
   "execution_count": 4,
   "metadata": {
    "collapsed": false
   },
   "outputs": [
    {
     "data": {
      "text/html": [
       "<div>\n",
       "<table border=\"1\" class=\"dataframe\">\n",
       "  <thead>\n",
       "    <tr style=\"text-align: right;\">\n",
       "      <th></th>\n",
       "      <th>Loan_ID</th>\n",
       "      <th>Gender</th>\n",
       "      <th>Married</th>\n",
       "      <th>Dependents</th>\n",
       "      <th>Education</th>\n",
       "      <th>Self_Employed</th>\n",
       "      <th>ApplicantIncome</th>\n",
       "      <th>CoapplicantIncome</th>\n",
       "      <th>LoanAmount</th>\n",
       "      <th>Loan_Amount_Term</th>\n",
       "      <th>Credit_History</th>\n",
       "      <th>Property_Area</th>\n",
       "      <th>Loan_Status</th>\n",
       "      <th>EMI</th>\n",
       "      <th>Credit_Pos_Index</th>\n",
       "      <th>Loan_Value</th>\n",
       "    </tr>\n",
       "  </thead>\n",
       "  <tbody>\n",
       "    <tr>\n",
       "      <th>0</th>\n",
       "      <td>LP001002</td>\n",
       "      <td>0</td>\n",
       "      <td>0</td>\n",
       "      <td>0</td>\n",
       "      <td>1</td>\n",
       "      <td>1</td>\n",
       "      <td>5849</td>\n",
       "      <td>0.0</td>\n",
       "      <td>146.412162</td>\n",
       "      <td>360.0</td>\n",
       "      <td>1.0</td>\n",
       "      <td>2</td>\n",
       "      <td>Y</td>\n",
       "      <td>0.406700</td>\n",
       "      <td>2</td>\n",
       "      <td>0.025032</td>\n",
       "    </tr>\n",
       "    <tr>\n",
       "      <th>1</th>\n",
       "      <td>LP001003</td>\n",
       "      <td>0</td>\n",
       "      <td>1</td>\n",
       "      <td>1</td>\n",
       "      <td>1</td>\n",
       "      <td>1</td>\n",
       "      <td>4583</td>\n",
       "      <td>1508.0</td>\n",
       "      <td>128.000000</td>\n",
       "      <td>360.0</td>\n",
       "      <td>1.0</td>\n",
       "      <td>1</td>\n",
       "      <td>N</td>\n",
       "      <td>0.355556</td>\n",
       "      <td>4</td>\n",
       "      <td>0.021015</td>\n",
       "    </tr>\n",
       "    <tr>\n",
       "      <th>2</th>\n",
       "      <td>LP001005</td>\n",
       "      <td>0</td>\n",
       "      <td>1</td>\n",
       "      <td>0</td>\n",
       "      <td>1</td>\n",
       "      <td>0</td>\n",
       "      <td>3000</td>\n",
       "      <td>0.0</td>\n",
       "      <td>66.000000</td>\n",
       "      <td>360.0</td>\n",
       "      <td>1.0</td>\n",
       "      <td>2</td>\n",
       "      <td>Y</td>\n",
       "      <td>0.183333</td>\n",
       "      <td>2</td>\n",
       "      <td>0.022000</td>\n",
       "    </tr>\n",
       "    <tr>\n",
       "      <th>3</th>\n",
       "      <td>LP001006</td>\n",
       "      <td>0</td>\n",
       "      <td>1</td>\n",
       "      <td>0</td>\n",
       "      <td>0</td>\n",
       "      <td>1</td>\n",
       "      <td>2583</td>\n",
       "      <td>2358.0</td>\n",
       "      <td>120.000000</td>\n",
       "      <td>360.0</td>\n",
       "      <td>1.0</td>\n",
       "      <td>2</td>\n",
       "      <td>Y</td>\n",
       "      <td>0.333333</td>\n",
       "      <td>2</td>\n",
       "      <td>0.024287</td>\n",
       "    </tr>\n",
       "    <tr>\n",
       "      <th>4</th>\n",
       "      <td>LP001008</td>\n",
       "      <td>0</td>\n",
       "      <td>0</td>\n",
       "      <td>0</td>\n",
       "      <td>1</td>\n",
       "      <td>1</td>\n",
       "      <td>6000</td>\n",
       "      <td>0.0</td>\n",
       "      <td>141.000000</td>\n",
       "      <td>360.0</td>\n",
       "      <td>1.0</td>\n",
       "      <td>2</td>\n",
       "      <td>Y</td>\n",
       "      <td>0.391667</td>\n",
       "      <td>2</td>\n",
       "      <td>0.023500</td>\n",
       "    </tr>\n",
       "  </tbody>\n",
       "</table>\n",
       "</div>"
      ],
      "text/plain": [
       "    Loan_ID  Gender  Married  Dependents  Education  Self_Employed  \\\n",
       "0  LP001002       0        0           0          1              1   \n",
       "1  LP001003       0        1           1          1              1   \n",
       "2  LP001005       0        1           0          1              0   \n",
       "3  LP001006       0        1           0          0              1   \n",
       "4  LP001008       0        0           0          1              1   \n",
       "\n",
       "   ApplicantIncome  CoapplicantIncome  LoanAmount  Loan_Amount_Term  \\\n",
       "0             5849                0.0  146.412162             360.0   \n",
       "1             4583             1508.0  128.000000             360.0   \n",
       "2             3000                0.0   66.000000             360.0   \n",
       "3             2583             2358.0  120.000000             360.0   \n",
       "4             6000                0.0  141.000000             360.0   \n",
       "\n",
       "   Credit_History  Property_Area Loan_Status       EMI  Credit_Pos_Index  \\\n",
       "0             1.0              2           Y  0.406700                 2   \n",
       "1             1.0              1           N  0.355556                 4   \n",
       "2             1.0              2           Y  0.183333                 2   \n",
       "3             1.0              2           Y  0.333333                 2   \n",
       "4             1.0              2           Y  0.391667                 2   \n",
       "\n",
       "   Loan_Value  \n",
       "0    0.025032  \n",
       "1    0.021015  \n",
       "2    0.022000  \n",
       "3    0.024287  \n",
       "4    0.023500  "
      ]
     },
     "execution_count": 4,
     "metadata": {},
     "output_type": "execute_result"
    }
   ],
   "source": [
    "train_loan_df.head()\n",
    "#Total Income\n",
    "# train_loan_df['Total_Income'] = train_loan_df['ApplicantIncome'] + train_loan_df['CoapplicantIncome']\n",
    "# test_loan_df['Total_Income'] = test_loan_df['ApplicantIncome'] + test_loan_df['CoapplicantIncome']\n",
    "# train_loan_df.drop('ApplicantIncome',axis=1,inplace=True)\n",
    "# train_loan_df.drop('CoapplicantIncome',axis=1,inplace=True)\n",
    "# test_loan_df.drop('CoapplicantIncome',axis=1,inplace=True)\n",
    "# test_loan_df.drop('ApplicantIncome',axis=1,inplace=True)\n",
    "# loan_status_map = {'Y':1,'N':0}\n",
    "# train_loan_df['Loan_Status'] = train_loan_df['Loan_Status'].map(loan_status_map)\n",
    "# train_loan_df.drop(['Gender','Married'],axis=1,inplace=True)\n",
    "# test_loan_df.drop(['Gender','Married'],axis=1,inplace=True)\n",
    "\n",
    "#New Loan Value Column\n",
    "# train_loan_df['Loan_Value'] = (train_loan_df['ApplicantIncome'] + train_loan_df['CoapplicantIncome'])/train_loan_df['LoanAmount']\n",
    "# test_loan_df['Loan_Value'] = (test_loan_df['ApplicantIncome'] + test_loan_df['CoapplicantIncome'])/test_loan_df['LoanAmount']\n",
    "# train_loan_df['Loan_Value'] = train_loan_df['ApplicantIncome']/train_loan_df['LoanAmount']\n",
    "# test_loan_df['Loan_Value'] = test_loan_df['ApplicantIncome']/test_loan_df['LoanAmount']\n",
    "\n",
    "#Credit Index\n",
    "# train_loan_df['Credit_Index'] = train_loan_df[train_loan_df['Education']==2]['Education'] + train_loan_df[train_loan_df['Self_Employed']==0]['Self_Employed']\n",
    "# train_loan_df['Credit_Index']  = train_loan_df['Credit_Index'] .fillna(0)\n",
    "# test_loan_df['Credit_Index'] = test_loan_df[test_loan_df['Education']==2]['Education'] + test_loan_df[test_loan_df['Self_Employed']==0]['Self_Employed']\n",
    "# test_loan_df['Credit_Index']  = test_loan_df['Credit_Index'] .fillna(0)\n",
    "# train_loan_df['Credit_Index'] = train_loan_df['Education'] + train_loan_df['Self_Employed']\n",
    "# test_loan_df['Credit_Index'] = test_loan_df['Education'] + test_loan_df['Self_Employed']\n",
    "\n",
    "#Negative Index\n",
    "# train_loan_df['Neg_Index'] = train_loan_df['Dependents']+train_loan_df['Property_Area']\n",
    "# test_loan_df['Neg_Index'] = test_loan_df['Dependents']+test_loan_df['Property_Area']\n",
    "\n",
    "#EMI_Dep\n",
    "# train_loan_df['EMI_Dep'] = train_loan_df['EMI']/train_loan_df['Dependents']\n",
    "# test_loan_df['EMI_Dep'] = test_loan_df['EMI']/test_loan_df['Dependents']"
   ]
  },
  {
   "cell_type": "code",
   "execution_count": 5,
   "metadata": {
    "collapsed": false
   },
   "outputs": [],
   "source": [
    "#loan_status_map = {'Y':1,'N':0}\n",
    "#train_loan_df['Loan_Status'] = train_loan_df['Loan_Status'].map(loan_status_map)\n",
    "\n",
    "#self_emp_map = {'Yes':1,'No':0}\n",
    "\n",
    "#train_loan_df['Self_Employed'] = train_loan_df['Self_Employed'].map(self_emp_map)\n",
    "#train_loan_df.head()\n",
    "# train_loan_df.info()\n",
    "# test_loan_df.info()\n",
    "# train_loan_df.head()\n",
    "# train_loan_df['Credit_history']\n",
    "\n",
    "# train_loan_df[train_loan_df['Credit_History']==0]\n",
    "# train_loan_df['Credit_History'].value_counts()\n",
    "# #sns.barplot(x='AppplicantIncome', y='Self_Employed', data=train_loan_df)\n",
    "# #sns.factorplot('AppplicantIncome',hue='Self_Employed',data=train_loan_df,kind='count',order=[1,0])\n",
    "# #train_loan_df[train_loan_df['Dependents'].isnull()].info()\n",
    "\n",
    "#fig,(axis1,axis2) = plt.subplots(1,2,figsize=(15,5))\n",
    "#sns.countplot(x='Credit_History', data=train_loan_df, ax=axis1)\n",
    "#sns.countplot(x='Property_Area', hue=\"Loan_Status\", data=train_loan_df, order=[1,0], ax=axis1)\n",
    "#sns.countplot(x='Dependents', hue=\"Loan_Status\", data=train_loan_df, order=[1,0], ax=axis2)\n",
    "# #sns.countplot(x='Credit_History', data=train_loan_df, ax=axis1)\n",
    "#sns.factorplot('Dependents','Loan_Status', data=train_loan_df,size=4,aspect=3)\n",
    "#sns.factorplot('Dependenta','Loan_Status', data=train_loan_df,size=4,aspect=3)\n",
    "# #sns.countplot(x='Credit_History', data=train_loan_df, ax=axis1)\n",
    "# sns.countplot(x='Education', hue=\"Credit_History\", data=train_loan_df, order=[1,0], ax=axis3)\n",
    "# #sns.countplot(x='Credit_History', data=train_loan_df, ax=axis1)\n",
    "#sns.factorplot('Dependents','Credit_History', data=train_loan_df,size=4,aspect=3)\n",
    "# # average_term = train_loan_df[[\"Loan_Amount_Term\", \"Loan_Status\"]].groupby(['Loan_Amount_Term'],as_index=False).mean()\n",
    "# # sns.barplot(x='Loan_Amount_Term', y='Loan_Status', data=average_term,ax=axis1)\n",
    "\n",
    "# train_loan_df['Loan_Amount_Term'] = train_loan_df['Loan_Amount_Term'].fillna(train_loan_df['Loan_Amount_Term'].mean())\n",
    "# average_term1 = train_loan_df[[\"Loan_Amount_Term\", \"Loan_Status\"]].groupby(['Loan_Amount_Term'],as_index=False).mean()\n",
    "#sns.barplot(x='AppplicantIncome', y='Self_Employed', data=train_loan_df)"
   ]
  },
  {
   "cell_type": "code",
   "execution_count": 6,
   "metadata": {
    "collapsed": false
   },
   "outputs": [],
   "source": [
    "#Credit History Model\n",
    "#X_credit_train = train_loan_df[(train_loan_df['Credit_History'].notnull())][['ApplicantIncome','Dependents','Property_Area','Education','Self_Employed']]\n",
    "# X_credit_train = train_loan_df[(train_loan_df['Credit_History'].notnull())][['ApplicantIncome','LoanAmount']]\n",
    "# y_credit_train = train_loan_df[(train_loan_df['Credit_History'].notnull())]['Loan_Status']\n",
    "#credit_test = train_loan_df[train_loan_df['Credit_History'].isnull()][['ApplicantIncome','Dependents','Property_Area','Education','Self_Employed']]\n",
    "# credit_test = train_loan_df[train_loan_df['Credit_History'].isnull()][['ApplicantIncome','LoanAmount']]\n",
    "# credit_test.head()"
   ]
  },
  {
   "cell_type": "code",
   "execution_count": 7,
   "metadata": {
    "collapsed": false
   },
   "outputs": [],
   "source": [
    "# from sklearn.linear_model import LogisticRegression\n",
    "# logReg = LogisticRegression()\n",
    "# logReg.fit(X_credit_train,y_credit_train)\n",
    "# credit_pred = logReg.predict(credit_test)\n",
    "# credit_pred\n",
    "#train_loan_df[\"Credit_History\"][np.isnan(train_loan_df[\"Credit_History\"])] = credit_pred"
   ]
  },
  {
   "cell_type": "code",
   "execution_count": 8,
   "metadata": {
    "collapsed": false
   },
   "outputs": [
    {
     "name": "stdout",
     "output_type": "stream",
     "text": [
      "<class 'pandas.core.frame.DataFrame'>\n",
      "RangeIndex: 614 entries, 0 to 613\n",
      "Data columns (total 14 columns):\n",
      "Gender               614 non-null int64\n",
      "Married              614 non-null int64\n",
      "Dependents           614 non-null int64\n",
      "Education            614 non-null int64\n",
      "Self_Employed        614 non-null int64\n",
      "ApplicantIncome      614 non-null int64\n",
      "CoapplicantIncome    614 non-null float64\n",
      "LoanAmount           614 non-null float64\n",
      "Loan_Amount_Term     614 non-null float64\n",
      "Credit_History       614 non-null float64\n",
      "Property_Area        614 non-null int64\n",
      "EMI                  614 non-null float64\n",
      "Credit_Pos_Index     614 non-null int64\n",
      "Loan_Value           614 non-null float64\n",
      "dtypes: float64(6), int64(8)\n",
      "memory usage: 67.2 KB\n",
      "<class 'pandas.core.frame.DataFrame'>\n",
      "RangeIndex: 367 entries, 0 to 366\n",
      "Data columns (total 14 columns):\n",
      "Gender               367 non-null int64\n",
      "Married              367 non-null int64\n",
      "Dependents           367 non-null int64\n",
      "Education            367 non-null int64\n",
      "Self_Employed        367 non-null int64\n",
      "ApplicantIncome      367 non-null int64\n",
      "CoapplicantIncome    367 non-null int64\n",
      "LoanAmount           367 non-null float64\n",
      "Loan_Amount_Term     367 non-null float64\n",
      "Credit_History       367 non-null float64\n",
      "Property_Area        367 non-null int64\n",
      "EMI                  367 non-null float64\n",
      "Credit_Pos_Index     367 non-null int64\n",
      "Loan_Value           367 non-null float64\n",
      "dtypes: float64(5), int64(9)\n",
      "memory usage: 40.2 KB\n"
     ]
    },
    {
     "data": {
      "text/plain": [
       "(None, None)"
      ]
     },
     "execution_count": 8,
     "metadata": {},
     "output_type": "execute_result"
    }
   ],
   "source": [
    "X_train = train_loan_df.drop(['Loan_Status','Loan_ID'],axis=1)\n",
    "Y_train = train_loan_df['Loan_Status']\n",
    "X_test  = test_loan_df.drop('Loan_ID',axis=1)\n",
    "X_train.info(),X_test.info()"
   ]
  },
  {
   "cell_type": "code",
   "execution_count": 9,
   "metadata": {
    "collapsed": false
   },
   "outputs": [
    {
     "data": {
      "text/plain": [
       "0.81107491856677527"
      ]
     },
     "execution_count": 9,
     "metadata": {},
     "output_type": "execute_result"
    }
   ],
   "source": [
    "from sklearn.linear_model import LogisticRegression\n",
    "logReg = LogisticRegression()\n",
    "logReg.fit(X_train,Y_train)\n",
    "Y_pred = logReg.predict(X_test)\n",
    "logReg.score(X_train,Y_train)"
   ]
  },
  {
   "cell_type": "code",
   "execution_count": 10,
   "metadata": {
    "collapsed": false
   },
   "outputs": [],
   "source": [
    "# from sklearn import svm\n",
    "# svc = svm.SVC()\n",
    "# svc.fit(X_train,Y_train)\n",
    "# Y_pred = svc.predict(X_test)\n",
    "# svc.score(X_train,Y_train)"
   ]
  },
  {
   "cell_type": "code",
   "execution_count": 11,
   "metadata": {
    "collapsed": false
   },
   "outputs": [
    {
     "data": {
      "text/html": [
       "<div>\n",
       "<table border=\"1\" class=\"dataframe\">\n",
       "  <thead>\n",
       "    <tr style=\"text-align: right;\">\n",
       "      <th></th>\n",
       "      <th>Features</th>\n",
       "      <th>Coefficient Estimate</th>\n",
       "    </tr>\n",
       "  </thead>\n",
       "  <tbody>\n",
       "    <tr>\n",
       "      <th>0</th>\n",
       "      <td>Gender</td>\n",
       "      <td>-0.003008</td>\n",
       "    </tr>\n",
       "    <tr>\n",
       "      <th>1</th>\n",
       "      <td>Married</td>\n",
       "      <td>0.286436</td>\n",
       "    </tr>\n",
       "    <tr>\n",
       "      <th>2</th>\n",
       "      <td>Dependents</td>\n",
       "      <td>-0.130881</td>\n",
       "    </tr>\n",
       "    <tr>\n",
       "      <th>3</th>\n",
       "      <td>Education</td>\n",
       "      <td>0.182623</td>\n",
       "    </tr>\n",
       "    <tr>\n",
       "      <th>4</th>\n",
       "      <td>Self_Employed</td>\n",
       "      <td>-0.187441</td>\n",
       "    </tr>\n",
       "    <tr>\n",
       "      <th>5</th>\n",
       "      <td>ApplicantIncome</td>\n",
       "      <td>0.000006</td>\n",
       "    </tr>\n",
       "    <tr>\n",
       "      <th>6</th>\n",
       "      <td>CoapplicantIncome</td>\n",
       "      <td>-0.000051</td>\n",
       "    </tr>\n",
       "    <tr>\n",
       "      <th>7</th>\n",
       "      <td>LoanAmount</td>\n",
       "      <td>-0.000502</td>\n",
       "    </tr>\n",
       "    <tr>\n",
       "      <th>8</th>\n",
       "      <td>Loan_Amount_Term</td>\n",
       "      <td>-0.004198</td>\n",
       "    </tr>\n",
       "    <tr>\n",
       "      <th>9</th>\n",
       "      <td>Credit_History</td>\n",
       "      <td>2.958619</td>\n",
       "    </tr>\n",
       "    <tr>\n",
       "      <th>10</th>\n",
       "      <td>Property_Area</td>\n",
       "      <td>0.335312</td>\n",
       "    </tr>\n",
       "    <tr>\n",
       "      <th>11</th>\n",
       "      <td>Loan_Status</td>\n",
       "      <td>-0.439155</td>\n",
       "    </tr>\n",
       "    <tr>\n",
       "      <th>12</th>\n",
       "      <td>EMI</td>\n",
       "      <td>0.150737</td>\n",
       "    </tr>\n",
       "    <tr>\n",
       "      <th>13</th>\n",
       "      <td>Credit_Pos_Index</td>\n",
       "      <td>-0.093450</td>\n",
       "    </tr>\n",
       "    <tr>\n",
       "      <th>14</th>\n",
       "      <td>Loan_Value</td>\n",
       "      <td>NaN</td>\n",
       "    </tr>\n",
       "  </tbody>\n",
       "</table>\n",
       "</div>"
      ],
      "text/plain": [
       "             Features  Coefficient Estimate\n",
       "0              Gender             -0.003008\n",
       "1             Married              0.286436\n",
       "2          Dependents             -0.130881\n",
       "3           Education              0.182623\n",
       "4       Self_Employed             -0.187441\n",
       "5     ApplicantIncome              0.000006\n",
       "6   CoapplicantIncome             -0.000051\n",
       "7          LoanAmount             -0.000502\n",
       "8    Loan_Amount_Term             -0.004198\n",
       "9      Credit_History              2.958619\n",
       "10      Property_Area              0.335312\n",
       "11        Loan_Status             -0.439155\n",
       "12                EMI              0.150737\n",
       "13   Credit_Pos_Index             -0.093450\n",
       "14         Loan_Value                   NaN"
      ]
     },
     "execution_count": 11,
     "metadata": {},
     "output_type": "execute_result"
    }
   ],
   "source": [
    "# get Correlation Coefficient for each feature using Logistic Regression\n",
    "coeff_df = pd.DataFrame(train_loan_df.columns.delete(0))\n",
    "coeff_df.columns = ['Features']\n",
    "coeff_df[\"Coefficient Estimate\"] = pd.Series(logReg.coef_[0])\n",
    "\n",
    "# preview\n",
    "coeff_df"
   ]
  },
  {
   "cell_type": "code",
   "execution_count": 12,
   "metadata": {
    "collapsed": false
   },
   "outputs": [
    {
     "name": "stdout",
     "output_type": "stream",
     "text": [
      "5-fold cross validation:\n",
      "\n",
      "Accuracy: 0.80 (+/- 0.04) [Logistic Regression]\n",
      "Accuracy: 0.76 (+/- 0.06) [Random Forest]\n",
      "Accuracy: 0.79 (+/- 0.04) [naive Bayes]\n"
     ]
    }
   ],
   "source": [
    "from sklearn import cross_validation\n",
    "from sklearn.linear_model import LogisticRegression\n",
    "from sklearn.naive_bayes import GaussianNB\n",
    "from sklearn.ensemble import RandomForestClassifier\n",
    "import numpy as np\n",
    "\n",
    "np.random.seed(123)\n",
    "\n",
    "clf1 = LogisticRegression()\n",
    "clf2 = RandomForestClassifier()\n",
    "clf3 = GaussianNB()\n",
    "\n",
    "print('5-fold cross validation:\\n')\n",
    "\n",
    "for clf, label in zip([clf1, clf2, clf3], ['Logistic Regression', 'Random Forest', 'naive Bayes']):\n",
    "\n",
    "    scores = cross_validation.cross_val_score(clf, X_train, Y_train, cv=10, scoring='accuracy')\n",
    "    print(\"Accuracy: %0.2f (+/- %0.2f) [%s]\" % (scores.mean(), scores.std(), label))"
   ]
  },
  {
   "cell_type": "code",
   "execution_count": 13,
   "metadata": {
    "collapsed": false
   },
   "outputs": [],
   "source": [
    "# from sklearn import metrics\n",
    "# C_start = 0.1\n",
    "# C_end = 5\n",
    "# C_inc = 0.1\n",
    "\n",
    "# C_values, recall_scores = [], []\n",
    "\n",
    "# C_val = C_start\n",
    "# best_recall_score = 0\n",
    "# while (C_val < C_end):\n",
    "#     C_values.append(C_val)\n",
    "#     lr_model_loop = LogisticRegression(C=C_val, random_state=42)\n",
    "#     lr_model_loop.fit(X_train, Y_train.ravel())\n",
    "#     lr_predict_loop_test = lr_model_loop.predict(X_test)\n",
    "#     recall_score = metrics.recall_score(Y_pred, lr_predict_loop_test)\n",
    "#     recall_scores.append(recall_score)\n",
    "#     if (recall_score > best_recall_score):\n",
    "#         best_recall_score = recall_score\n",
    "#         best_lr_predict_test = lr_predict_loop_test\n",
    "        \n",
    "#     C_val = C_val + C_inc\n",
    "\n",
    "# best_score_C_val = C_values[recall_scores.index(best_recall_score)]\n",
    "# print(\"1st max value of {0:.3f} occured at C={1:.3f}\".format(best_recall_score, best_score_C_val))\n",
    "\n",
    "# %matplotlib inline \n",
    "# plt.plot(C_values, recall_scores, \"-\")\n",
    "# plt.xlabel(\"C value\")\n",
    "# plt.ylabel(\"recall score\")"
   ]
  },
  {
   "cell_type": "code",
   "execution_count": 14,
   "metadata": {
    "collapsed": false
   },
   "outputs": [],
   "source": [
    "# from sklearn.linear_model import LogisticRegression\n",
    "# lr_model =LogisticRegression( class_weight=\"balanced\", C=best_score_C_val, random_state=42)\n",
    "# lr_model.fit(X_train, y_train.ravel())\n",
    "# y_pred = lr_model.predict(X_test)\n",
    "# lr_model.score(X_train,y_train)"
   ]
  },
  {
   "cell_type": "code",
   "execution_count": 15,
   "metadata": {
    "collapsed": false
   },
   "outputs": [],
   "source": [
    "# from sklearn.ensemble import RandomForestClassifier\n",
    "# rf = RandomForestClassifier(n_estimators=40)\n",
    "# rf.fit(X_train,Y_train)\n",
    "# Y_pred = rf.predict(X_test)\n",
    "# rf.score(X_train,Y_train)"
   ]
  },
  {
   "cell_type": "code",
   "execution_count": 16,
   "metadata": {
    "collapsed": false
   },
   "outputs": [],
   "source": [
    "submission = pd.DataFrame({\n",
    "        'Loan_ID':test_loan_df['Loan_ID'],\n",
    "        'Loan_Status':Y_pred\n",
    "    })\n",
    "submission.to_csv('Loan_Prediction.csv',index=False)"
   ]
  }
 ],
 "metadata": {
  "anaconda-cloud": {},
  "kernelspec": {
   "display_name": "Python [default]",
   "language": "python",
   "name": "python3"
  },
  "language_info": {
   "codemirror_mode": {
    "name": "ipython",
    "version": 3
   },
   "file_extension": ".py",
   "mimetype": "text/x-python",
   "name": "python",
   "nbconvert_exporter": "python",
   "pygments_lexer": "ipython3",
   "version": "3.5.2"
  }
 },
 "nbformat": 4,
 "nbformat_minor": 0
}
